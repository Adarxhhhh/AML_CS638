{
 "cells": [
  {
   "cell_type": "code",
   "execution_count": 6,
   "id": "d7e933d4-ec98-46fb-a7a1-8d75593639f0",
   "metadata": {},
   "outputs": [],
   "source": [
    "import tensorflow as tf\n",
    "import tensorflow_datasets as tfds\n",
    "from tensorflow.keras.applications import MobileNetV2\n",
    "from tensorflow.keras.layers import GlobalAveragePooling2D\n",
    "from tensorflow.keras.models import Sequential\n",
    "import numpy as np"
   ]
  },
  {
   "cell_type": "code",
   "execution_count": 7,
   "id": "0f13c8ce-04e7-4dbb-a9b3-c66b01b87668",
   "metadata": {},
   "outputs": [],
   "source": [
    "# Load dataset\n",
    "def load_and_preprocess_data():\n",
    "    ds, info = tfds.load('malaria', split='train', with_info=True, as_supervised=True)\n",
    "    \n",
    "    # Preprocess images\n",
    "    def preprocess_images(image, label):\n",
    "        image = tf.image.resize(image, (128, 128))\n",
    "        image = tf.keras.applications.mobilenet_v2.preprocess_input(image)\n",
    "        return image, tf.cast(label, tf.int32)\n",
    "\n",
    "    ds = ds.map(preprocess_images).batch(32)\n",
    "    \n",
    "    # Feature extraction with MobileNetV2\n",
    "    base_model = MobileNetV2(include_top=False, weights='imagenet', input_shape=(128, 128, 3))\n",
    "    base_model.trainable = False\n",
    "    feature_extractor = Sequential([base_model, GlobalAveragePooling2D()])\n",
    "\n",
    "    features, labels = [], []\n",
    "    for images, label in ds:\n",
    "        features_batch = feature_extractor(images)\n",
    "        features.append(features_batch)\n",
    "        labels.append(label)\n",
    "\n",
    "    features = np.vstack(features)\n",
    "    labels = np.concatenate(labels)\n",
    "    \n",
    "    return features, labels\n",
    "\n",
    "features, labels = load_and_preprocess_data()\n"
   ]
  },
  {
   "cell_type": "code",
   "execution_count": 8,
   "id": "17a81d3a-a1fa-41bd-9c34-3ab83bc9da1a",
   "metadata": {},
   "outputs": [],
   "source": [
    "from spektral.data import Graph\n",
    "\n",
    "def create_graph(features, labels):\n",
    "    num_nodes = len(labels)\n",
    "    adjacency = np.random.randint(0, 2, (num_nodes, num_nodes))\n",
    "    adjacency = np.maximum(adjacency, adjacency.T)\n",
    "    np.fill_diagonal(adjacency, 0)\n",
    "    return Graph(x=features, a=adjacency, y=labels.reshape(-1, 1))\n",
    "\n",
    "graph = create_graph(features, labels)\n"
   ]
  },
  {
   "cell_type": "code",
   "execution_count": 9,
   "id": "1f7a9848-01ae-4af1-a74c-857e78167a75",
   "metadata": {},
   "outputs": [],
   "source": [
    "from sklearn.model_selection import train_test_split\n",
    "\n",
    "def create_subgraph(graph, indices):\n",
    "    x_sub = graph.x[indices]\n",
    "    y_sub = graph.y[indices]\n",
    "    a_sub = graph.a[indices][:, indices]\n",
    "    return Graph(x=x_sub, a=a_sub, y=y_sub)\n",
    "\n",
    "def split_graph(graph):\n",
    "    indices = np.arange(graph.n_nodes)\n",
    "    train_indices, test_indices = train_test_split(indices, test_size=0.2, random_state=42)\n",
    "    train_indices, val_indices = train_test_split(train_indices, test_size=0.25, random_state=42)\n",
    "    \n",
    "    train_graph = create_subgraph(graph, train_indices)\n",
    "    val_graph = create_subgraph(graph, val_indices)\n",
    "    test_graph = create_subgraph(graph, test_indices)\n",
    "\n",
    "    return train_graph, val_graph, test_graph\n",
    "\n",
    "train_graph, val_graph, test_graph = split_graph(graph)\n"
   ]
  },
  {
   "cell_type": "code",
   "execution_count": 10,
   "id": "ff05d83f-2508-4a86-bb94-c94571d613ec",
   "metadata": {},
   "outputs": [
    {
     "name": "stderr",
     "output_type": "stream",
     "text": [
      "WARNING:absl:At this time, the v2.11+ optimizer `tf.keras.optimizers.Adam` runs slowly on M1/M2 Macs, please use the legacy Keras optimizer instead, located at `tf.keras.optimizers.legacy.Adam`.\n"
     ]
    },
    {
     "ename": "TypeError",
     "evalue": "object of type 'Graph' has no len()",
     "output_type": "error",
     "traceback": [
      "\u001b[0;31m---------------------------------------------------------------------------\u001b[0m",
      "\u001b[0;31mTypeError\u001b[0m                                 Traceback (most recent call last)",
      "Cell \u001b[0;32mIn[10], line 20\u001b[0m\n\u001b[1;32m     17\u001b[0m model \u001b[38;5;241m=\u001b[39m create_gnn_model()\n\u001b[1;32m     18\u001b[0m model\u001b[38;5;241m.\u001b[39mcompile(optimizer\u001b[38;5;241m=\u001b[39mAdam(learning_rate\u001b[38;5;241m=\u001b[39m\u001b[38;5;241m0.01\u001b[39m), loss\u001b[38;5;241m=\u001b[39m\u001b[38;5;124m'\u001b[39m\u001b[38;5;124mbinary_crossentropy\u001b[39m\u001b[38;5;124m'\u001b[39m, metrics\u001b[38;5;241m=\u001b[39m[\u001b[38;5;124m'\u001b[39m\u001b[38;5;124maccuracy\u001b[39m\u001b[38;5;124m'\u001b[39m])\n\u001b[0;32m---> 20\u001b[0m train_loader \u001b[38;5;241m=\u001b[39m \u001b[43mSingleLoader\u001b[49m\u001b[43m(\u001b[49m\u001b[43mtrain_graph\u001b[49m\u001b[43m)\u001b[49m\n\u001b[1;32m     21\u001b[0m val_loader \u001b[38;5;241m=\u001b[39m SingleLoader(val_graph)\n\u001b[1;32m     23\u001b[0m model\u001b[38;5;241m.\u001b[39mfit(train_loader\u001b[38;5;241m.\u001b[39mload(), steps_per_epoch\u001b[38;5;241m=\u001b[39mtrain_loader\u001b[38;5;241m.\u001b[39msteps_per_epoch,\n\u001b[1;32m     24\u001b[0m           validation_data\u001b[38;5;241m=\u001b[39mval_loader\u001b[38;5;241m.\u001b[39mload(), validation_steps\u001b[38;5;241m=\u001b[39mval_loader\u001b[38;5;241m.\u001b[39msteps_per_epoch,\n\u001b[1;32m     25\u001b[0m           epochs\u001b[38;5;241m=\u001b[39m\u001b[38;5;241m10\u001b[39m)\n",
      "File \u001b[0;32m/opt/homebrew/lib/python3.11/site-packages/spektral/data/loaders.py:205\u001b[0m, in \u001b[0;36mSingleLoader.__init__\u001b[0;34m(self, dataset, epochs, sample_weights)\u001b[0m\n\u001b[1;32m    204\u001b[0m \u001b[38;5;28;01mdef\u001b[39;00m \u001b[38;5;21m__init__\u001b[39m(\u001b[38;5;28mself\u001b[39m, dataset, epochs\u001b[38;5;241m=\u001b[39m\u001b[38;5;28;01mNone\u001b[39;00m, sample_weights\u001b[38;5;241m=\u001b[39m\u001b[38;5;28;01mNone\u001b[39;00m):\n\u001b[0;32m--> 205\u001b[0m     \u001b[38;5;28;01mif\u001b[39;00m \u001b[38;5;28;43mlen\u001b[39;49m\u001b[43m(\u001b[49m\u001b[43mdataset\u001b[49m\u001b[43m)\u001b[49m \u001b[38;5;241m!=\u001b[39m \u001b[38;5;241m1\u001b[39m:\n\u001b[1;32m    206\u001b[0m         \u001b[38;5;28;01mraise\u001b[39;00m \u001b[38;5;167;01mValueError\u001b[39;00m(\n\u001b[1;32m    207\u001b[0m             \u001b[38;5;124m\"\u001b[39m\u001b[38;5;124mSingleLoader can only be used with Datasets that\u001b[39m\u001b[38;5;124m\"\u001b[39m\n\u001b[1;32m    208\u001b[0m             \u001b[38;5;124m\"\u001b[39m\u001b[38;5;124mhave a single graph.\u001b[39m\u001b[38;5;124m\"\u001b[39m\n\u001b[1;32m    209\u001b[0m         )\n\u001b[1;32m    210\u001b[0m     \u001b[38;5;28mself\u001b[39m\u001b[38;5;241m.\u001b[39msample_weights \u001b[38;5;241m=\u001b[39m sample_weights\n",
      "\u001b[0;31mTypeError\u001b[0m: object of type 'Graph' has no len()"
     ]
    }
   ],
   "source": [
    "from spektral.layers import GCNConv\n",
    "from tensorflow.keras.layers import Input, Dense, Dropout\n",
    "from tensorflow.keras.models import Model\n",
    "from tensorflow.keras.optimizers import Adam\n",
    "from spektral.data import SingleLoader\n",
    "\n",
    "def create_gnn_model():\n",
    "    inputs = Input(shape=(features.shape[1],))\n",
    "    adj_input = Input(shape=(None,))\n",
    "    x = GCNConv(32, activation='relu')([inputs, adj_input])\n",
    "    x = Dropout(0.5)(x)\n",
    "    x = GCNConv(16, activation='relu')([x, adj_input])\n",
    "    x = Dropout(0.5)(x)\n",
    "    x = Dense(1, activation='sigmoid')(x)\n",
    "    return Model(inputs=[inputs, adj_input], outputs=x)\n",
    "\n",
    "model = create_gnn_model()\n",
    "model.compile(optimizer=Adam(learning_rate=0.01), loss='binary_crossentropy', metrics=['accuracy'])\n",
    "\n",
    "train_loader = SingleLoader(train_graph)\n",
    "val_loader = SingleLoader(val_graph)\n",
    "\n",
    "model.fit(train_loader.load(), steps_per_epoch=train_loader.steps_per_epoch,\n",
    "          validation_data=val_loader.load(), validation_steps=val_loader.steps_per_epoch,\n",
    "          epochs=10)\n"
   ]
  },
  {
   "cell_type": "code",
   "execution_count": null,
   "id": "d34dc7d3-2827-498c-8dcc-78f14e8ce046",
   "metadata": {},
   "outputs": [],
   "source": [
    "from sklearn.metrics import confusion_matrix, ConfusionMatrixDisplay\n",
    "\n",
    "# Making predictions with the model\n",
    "val_images, val_labels = next(iter(val_ds.unbatch().batch(len(ds_validation))))\n",
    "val_predictions = model.predict(val_images)\n",
    "val_pred_classes = (val_predictions > 0.5).astype(int)  # Binary classification threshold\n",
    "\n",
    "# Computing the confusion matrix\n",
    "cm = confusion_matrix(val_labels, val_pred_classes)\n",
    "disp = ConfusionMatrixDisplay(confusion_matrix=cm, display_labels=ds_info.features['label'].names)\n",
    "\n",
    "# Plotting the confusion matrix\n",
    "plt.figure(figsize=(10,10))\n",
    "disp.plot(cmap=plt.cm.Blues)\n",
    "plt.show()"
   ]
  }
 ],
 "metadata": {
  "kernelspec": {
   "display_name": "Python 3 (ipykernel)",
   "language": "python",
   "name": "python3"
  },
  "language_info": {
   "codemirror_mode": {
    "name": "ipython",
    "version": 3
   },
   "file_extension": ".py",
   "mimetype": "text/x-python",
   "name": "python",
   "nbconvert_exporter": "python",
   "pygments_lexer": "ipython3",
   "version": "3.11.7"
  }
 },
 "nbformat": 4,
 "nbformat_minor": 5
}
